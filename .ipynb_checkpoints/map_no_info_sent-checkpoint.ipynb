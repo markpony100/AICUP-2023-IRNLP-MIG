{
 "cells": [
  {
   "cell_type": "code",
   "execution_count": 2,
   "id": "70507a1b-c84b-42c1-b0ae-829235d5fa67",
   "metadata": {},
   "outputs": [],
   "source": [
    "import json\n",
    "import sys\n",
    "from pandarallel import pandarallel\n",
    "\n",
    "pandarallel.initialize(progress_bar=True, verbose=0, nb_workers=10)\n",
    "\n",
    "\n",
    "sys.path.append('../')\n",
    "\n",
    "from utils import (\n",
    "    load_json,jsonl_dir_to_df,\n",
    "    load_simple_json,generate_evidence_to_wiki_pages_mapping\n",
    ")\n"
   ]
  },
  {
   "cell_type": "code",
   "execution_count": 3,
   "id": "d3c7d787-89eb-4760-a305-8d4e99c397ba",
   "metadata": {},
   "outputs": [
    {
     "data": {
      "text/plain": [
       "2686"
      ]
     },
     "execution_count": 3,
     "metadata": {},
     "output_type": "execute_result"
    }
   ],
   "source": [
    "no_info_data = load_json(\"../pert_large/sent/0522_base_clu_folds_PN13/no_info_ens5.jsonl\")\n",
    "len(no_info_data)"
   ]
  },
  {
   "cell_type": "code",
   "execution_count": 7,
   "id": "0ae1501b-f3c5-4581-ac7f-a083eccb9bdb",
   "metadata": {},
   "outputs": [
    {
     "data": {
      "text/plain": [
       "3275"
      ]
     },
     "execution_count": 7,
     "metadata": {},
     "output_type": "execute_result"
    }
   ],
   "source": [
    "all_no_info = load_json(\"../preprocess/pre_all_0522.jsonl\")\n",
    "all_no_info = [i for i in all_no_info if i[\"label\"]==\"NOT ENOUGH INFO\"]\n",
    "len(all_no_info)"
   ]
  },
  {
   "cell_type": "code",
   "execution_count": 4,
   "id": "53fb40ba-33e2-45ea-89de-1d51e7d84f37",
   "metadata": {},
   "outputs": [
    {
     "data": {
      "text/plain": [
       "1099"
      ]
     },
     "execution_count": 4,
     "metadata": {},
     "output_type": "execute_result"
    }
   ],
   "source": [
    "test_data = load_json(\"../pert_large/sent/0522_base_clu_folds_PN13/test_ens5.jsonl\")\n",
    "len(test_data)"
   ]
  },
  {
   "cell_type": "code",
   "execution_count": 5,
   "id": "4d87ae19-2bb9-48c8-94b5-e1b42e87abb9",
   "metadata": {},
   "outputs": [
    {
     "data": {
      "text/plain": [
       "325"
      ]
     },
     "execution_count": 5,
     "metadata": {},
     "output_type": "execute_result"
    }
   ],
   "source": [
    "test_no_info = [i for i in test_data if i[\"label\"]==\"NOT ENOUGH INFO\"]\n",
    "len(test_no_info)"
   ]
  },
  {
   "cell_type": "code",
   "execution_count": 6,
   "id": "3d6bc52a-e2f2-461a-8c2c-2d4e7a1e074e",
   "metadata": {},
   "outputs": [
    {
     "data": {
      "text/plain": [
       "3011"
      ]
     },
     "execution_count": 6,
     "metadata": {},
     "output_type": "execute_result"
    }
   ],
   "source": [
    "2686+325"
   ]
  },
  {
   "cell_type": "code",
   "execution_count": 31,
   "id": "742c068d-3a12-437d-afd3-ad56ca717230",
   "metadata": {
    "tags": []
   },
   "outputs": [
    {
     "data": {
      "text/plain": [
       "dict_keys(['test'])"
      ]
     },
     "execution_count": 31,
     "metadata": {},
     "output_type": "execute_result"
    }
   ],
   "source": [
    "d.keys()"
   ]
  },
  {
   "cell_type": "code",
   "execution_count": 32,
   "id": "6e9b375c-75c4-430a-81fd-3a67e941062e",
   "metadata": {},
   "outputs": [
    {
     "data": {
      "text/plain": [
       "9671"
      ]
     },
     "execution_count": 32,
     "metadata": {},
     "output_type": "execute_result"
    }
   ],
   "source": [
    "len(set([i[\"qid\"] for i in d[\"test\"]]))"
   ]
  },
  {
   "cell_type": "code",
   "execution_count": 22,
   "id": "f19de0b0-b33c-4706-bf79-bffe04988811",
   "metadata": {},
   "outputs": [
    {
     "data": {
      "text/plain": [
       "{'id': 7697,\n",
       " 'label': 'NOT ENOUGH INFO',\n",
       " 'claim': '許多百年以上的針插昆蟲標本收藏於國立臺灣大學昆蟲標本館。',\n",
       " 'evidence': [[6937, None, None, None]],\n",
       " 'predicted_pages_1': ['國立臺灣大學昆蟲標本館'],\n",
       " 'predicted_evidence': [['國立臺灣大學昆蟲標本館', 1], ['國立臺灣大學昆蟲標本館', 0]]}"
      ]
     },
     "execution_count": 22,
     "metadata": {},
     "output_type": "execute_result"
    }
   ],
   "source": [
    "no_info_data[0]"
   ]
  },
  {
   "cell_type": "code",
   "execution_count": 13,
   "id": "64b0d933-e264-4bc4-93f8-69a3e10723c9",
   "metadata": {
    "collapsed": true,
    "jupyter": {
     "outputs_hidden": true
    },
    "tags": []
   },
   "outputs": [
    {
     "name": "stdout",
     "output_type": "stream",
     "text": [
      "Reading and concatenating jsonl files in ../../baseline/data/wiki-pages\n",
      "Generate parse mapping\n"
     ]
    },
    {
     "data": {
      "application/vnd.jupyter.widget-view+json": {
       "model_id": "c9d4623b79f74d1dae92b3944b2cd30f",
       "version_major": 2,
       "version_minor": 0
      },
      "text/plain": [
       "VBox(children=(HBox(children=(IntProgress(value=0, description='0.00%', max=118776), Label(value='0 / 118776')…"
      ]
     },
     "metadata": {},
     "output_type": "display_data"
    },
    {
     "name": "stdout",
     "output_type": "stream",
     "text": [
      "Transform to id to evidence_map mapping\n"
     ]
    }
   ],
   "source": [
    "wiki_pages = jsonl_dir_to_df(\"../../baseline/data/wiki-pages\")\n",
    "mapping = generate_evidence_to_wiki_pages_mapping(wiki_pages)\n",
    "del wiki_pages"
   ]
  },
  {
   "cell_type": "code",
   "execution_count": 23,
   "id": "57ca6318-a4bf-4984-90a6-f4a8f4ce1f4f",
   "metadata": {},
   "outputs": [],
   "source": [
    "def map_to_sent(mapping,data):\n",
    "    for i in data:\n",
    "        sent_buf=[]\n",
    "        for pred_evid in i[\"predicted_evidence\"]:\n",
    "            evid_id,evid_idx=pred_evid[0],pred_evid[1]\n",
    "            sent_buf.append(mapping[evid_id][str(evid_idx)])\n",
    "        i[\"predicted_sent\"]=sent_buf"
   ]
  },
  {
   "cell_type": "code",
   "execution_count": 24,
   "id": "954cb319-bdcc-4e03-a31a-bdb68a9148e0",
   "metadata": {},
   "outputs": [
    {
     "data": {
      "text/plain": [
       "{'id': 7697,\n",
       " 'label': 'NOT ENOUGH INFO',\n",
       " 'claim': '許多百年以上的針插昆蟲標本收藏於國立臺灣大學昆蟲標本館。',\n",
       " 'evidence': [[6937, None, None, None]],\n",
       " 'predicted_pages_1': ['國立臺灣大學昆蟲標本館'],\n",
       " 'predicted_evidence': [['國立臺灣大學昆蟲標本館', 1], ['國立臺灣大學昆蟲標本館', 0]],\n",
       " 'predicted_sent': ['承接自臺北帝國大學時代標本室的收藏 ， 館內收藏爲數衆多的百年以上之老標本與珍貴標本 。',\n",
       "  '國立臺灣大學昆蟲標本館 ， 創立於1936年 ， 位於臺灣台北市蟾蜍山下 。']}"
      ]
     },
     "execution_count": 24,
     "metadata": {},
     "output_type": "execute_result"
    }
   ],
   "source": [
    "map_to_sent(mapping,no_info_data)\n",
    "no_info_data[0]"
   ]
  },
  {
   "cell_type": "code",
   "execution_count": 26,
   "id": "c3983514-c53f-4b38-8270-c1f5f6c56566",
   "metadata": {},
   "outputs": [],
   "source": [
    "with open(\"./no_info_data.jsonl\",\"w\",encoding=\"utf8\",) as f:\n",
    "    for i, d in enumerate(no_info_data):\n",
    "        f.write(json.dumps(d, ensure_ascii=False) + \"\\n\")"
   ]
  },
  {
   "cell_type": "markdown",
   "id": "5e717df5-1d0b-42dd-ae31-2adc13394710",
   "metadata": {},
   "source": [
    "enough"
   ]
  },
  {
   "cell_type": "code",
   "execution_count": 8,
   "id": "b66ab878-2aff-488e-b01f-e937174e5c89",
   "metadata": {},
   "outputs": [
    {
     "data": {
      "text/plain": [
       "8074"
      ]
     },
     "execution_count": 8,
     "metadata": {},
     "output_type": "execute_result"
    }
   ],
   "source": [
    "all_data = load_json(\"../preprocess/pre_all_0522.jsonl\")\n",
    "all_pos = [i for i in all_data if i[\"label\"]!=\"NOT ENOUGH INFO\"]\n",
    "len(all_pos)"
   ]
  },
  {
   "cell_type": "code",
   "execution_count": 9,
   "id": "99b2cc1f-eb9b-4ccf-bd65-e820316d66d5",
   "metadata": {},
   "outputs": [
    {
     "data": {
      "text/plain": [
       "{'id': 2663,\n",
       " 'label': 'refutes',\n",
       " 'claim': '天衛三軌道在天王星內部的磁層，以《仲夏夜之夢》作者緹坦妮雅命名。',\n",
       " 'evidence': [[[4209, 4331, '天衛三', 2]]]}"
      ]
     },
     "execution_count": 9,
     "metadata": {},
     "output_type": "execute_result"
    }
   ],
   "source": [
    "all_pos[0]"
   ]
  },
  {
   "cell_type": "code",
   "execution_count": 19,
   "id": "2722e225-4bbc-43d5-a51c-233d74db9755",
   "metadata": {},
   "outputs": [],
   "source": [
    "def map_to_sent_evid(mapping,data):\n",
    "    for i in data:\n",
    "        total_evid = []\n",
    "        evid_set = i[\"evidence\"]\n",
    "        for evids in evid_set:\n",
    "            for evid in evids:\n",
    "                total_evid.append(evid[2:])\n",
    "        total_evid=unique(total_evid)\n",
    "        i[\"evidence_set\"]=total_evid\n",
    "        sent_buf=[]\n",
    "        for evid in total_evid:\n",
    "            try:\n",
    "                evid_id,evid_idx=evid[0],evid[1]\n",
    "                sent_buf.append(mapping[evid_id][str(evid_idx)])\n",
    "            except:\n",
    "                sent_buf.append([])\n",
    "        i[\"evidence_sent\"]=sent_buf"
   ]
  },
  {
   "cell_type": "code",
   "execution_count": 22,
   "id": "bcc911a0-1939-4a4b-94c0-4e98ef864c71",
   "metadata": {},
   "outputs": [
    {
     "ename": "KeyError",
     "evalue": "'臺灣海峽危機#第二次臺灣海峽危機（1958）'",
     "output_type": "error",
     "traceback": [
      "\u001b[0;31m---------------------------------------------------------------------------\u001b[0m",
      "\u001b[0;31mKeyError\u001b[0m                                  Traceback (most recent call last)",
      "Cell \u001b[0;32mIn [22], line 1\u001b[0m\n\u001b[0;32m----> 1\u001b[0m \u001b[43mmap_to_sent_evid\u001b[49m\u001b[43m(\u001b[49m\u001b[43mmapping\u001b[49m\u001b[43m,\u001b[49m\u001b[43mall_pos\u001b[49m\u001b[43m)\u001b[49m\n",
      "Cell \u001b[0;32mIn [19], line 13\u001b[0m, in \u001b[0;36mmap_to_sent_evid\u001b[0;34m(mapping, data)\u001b[0m\n\u001b[1;32m     11\u001b[0m \u001b[38;5;28;01mfor\u001b[39;00m evid \u001b[38;5;129;01min\u001b[39;00m total_evid:\n\u001b[1;32m     12\u001b[0m     evid_id,evid_idx\u001b[38;5;241m=\u001b[39mevid[\u001b[38;5;241m0\u001b[39m],evid[\u001b[38;5;241m1\u001b[39m]\n\u001b[0;32m---> 13\u001b[0m     sent_buf\u001b[38;5;241m.\u001b[39mappend(\u001b[43mmapping\u001b[49m\u001b[43m[\u001b[49m\u001b[43mevid_id\u001b[49m\u001b[43m]\u001b[49m[\u001b[38;5;28mstr\u001b[39m(evid_idx)])\n\u001b[1;32m     14\u001b[0m i[\u001b[38;5;124m\"\u001b[39m\u001b[38;5;124mevidence_sent\u001b[39m\u001b[38;5;124m\"\u001b[39m]\u001b[38;5;241m=\u001b[39msent_buf\n",
      "\u001b[0;31mKeyError\u001b[0m: '臺灣海峽危機#第二次臺灣海峽危機（1958）'"
     ]
    }
   ],
   "source": [
    "map_to_sent_evid(mapping,all_pos)"
   ]
  },
  {
   "cell_type": "code",
   "execution_count": 21,
   "id": "ca303860-62e5-4b1c-b80e-fbd00ef44d72",
   "metadata": {},
   "outputs": [
    {
     "data": {
      "text/plain": [
       "[{'id': 2663,\n",
       "  'label': 'refutes',\n",
       "  'claim': '天衛三軌道在天王星內部的磁層，以《仲夏夜之夢》作者緹坦妮雅命名。',\n",
       "  'evidence': [[[4209, 4331, '天衛三', 2]]],\n",
       "  'evidence_set': [['天衛三', 2]],\n",
       "  'evidence_sent': ['1787年由威廉 · 赫歇爾發現 ， 並以威廉 · 莎士比亞的 《 仲夏夜之夢 》 中的妖精王后緹坦妮雅命名 。']}]"
      ]
     },
     "execution_count": 21,
     "metadata": {},
     "output_type": "execute_result"
    }
   ],
   "source": [
    "all_pos[:5]"
   ]
  },
  {
   "cell_type": "code",
   "execution_count": 17,
   "id": "fdeb2fd9-4f58-4c0f-a0c7-0aa7801dd135",
   "metadata": {},
   "outputs": [],
   "source": [
    "def unique(input_lst):\n",
    "    lst_set = []\n",
    "    for i in input_lst:\n",
    "        if i not in lst_set:\n",
    "            lst_set.append(i)\n",
    "    return lst_set"
   ]
  },
  {
   "cell_type": "code",
   "execution_count": null,
   "id": "18227bd6-9fcc-47ca-a329-2f21ed5cd8d2",
   "metadata": {},
   "outputs": [],
   "source": []
  }
 ],
 "metadata": {
  "kernelspec": {
   "display_name": "IR_NLP",
   "language": "python",
   "name": "ir_nlp"
  },
  "language_info": {
   "codemirror_mode": {
    "name": "ipython",
    "version": 3
   },
   "file_extension": ".py",
   "mimetype": "text/x-python",
   "name": "python",
   "nbconvert_exporter": "python",
   "pygments_lexer": "ipython3",
   "version": "3.8.10"
  }
 },
 "nbformat": 4,
 "nbformat_minor": 5
}
