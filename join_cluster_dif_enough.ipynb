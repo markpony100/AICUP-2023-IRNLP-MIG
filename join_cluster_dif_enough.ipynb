{
 "cells": [
  {
   "cell_type": "code",
   "execution_count": 38,
   "id": "e8d22816-7e9c-48a2-80e0-296840f79ea4",
   "metadata": {},
   "outputs": [],
   "source": [
    "import json\n",
    "sys.path.append('../')\n",
    "\n",
    "from utils import (\n",
    "    load_json,jsonl_dir_to_df,\n",
    "    load_simple_json,generate_evidence_to_wiki_pages_mapping\n",
    ")\n"
   ]
  },
  {
   "cell_type": "code",
   "execution_count": 116,
   "id": "eec05a50-d5c7-498c-913b-f4434dd3b583",
   "metadata": {},
   "outputs": [
    {
     "data": {
      "text/plain": [
       "9038"
      ]
     },
     "execution_count": 116,
     "metadata": {},
     "output_type": "execute_result"
    }
   ],
   "source": [
    "with open(\"pred_enough_n.txt\",\"r\")as f:\n",
    "    pred_enough = f.readlines()\n",
    "enough_dic ={}\n",
    "for i in pred_enough:\n",
    "    buf = i.replace(\"\\n\",\"\").split(\" \")\n",
    "    enough_dic[int(buf[0])]=buf[1]\n",
    "len(enough_dic.keys())"
   ]
  },
  {
   "cell_type": "code",
   "execution_count": 145,
   "id": "b33e5f3d-0daa-40b3-a01d-b87c2a810907",
   "metadata": {},
   "outputs": [
    {
     "data": {
      "text/plain": [
       "11349"
      ]
     },
     "execution_count": 145,
     "metadata": {},
     "output_type": "execute_result"
    }
   ],
   "source": [
    "train_data = load_json(\"../preprocess/pre_all_0522.jsonl\")\n",
    "len(train_data)"
   ]
  },
  {
   "cell_type": "code",
   "execution_count": 156,
   "id": "135c4d3d-1d87-4da2-b806-b68c709ca710",
   "metadata": {},
   "outputs": [
    {
     "data": {
      "text/plain": [
       "9038"
      ]
     },
     "execution_count": 156,
     "metadata": {},
     "output_type": "execute_result"
    }
   ],
   "source": [
    "test_data = load_json(\"../preprocess/public_test.jsonl\")+load_json(\"../preprocess/private_test_data.jsonl\")\n",
    "test_map = {i[\"id\"]:idx for idx,i in enumerate(test_data)}\n",
    "len(test_data)"
   ]
  },
  {
   "cell_type": "code",
   "execution_count": 398,
   "id": "313ca784-5ef0-4846-9b61-213c641a6267",
   "metadata": {},
   "outputs": [
    {
     "data": {
      "text/plain": [
       "8597"
      ]
     },
     "execution_count": 398,
     "metadata": {},
     "output_type": "execute_result"
    }
   ],
   "source": [
    "pred_data = load_json(\"./all_test_clu_page_sent_claim_nclu_ens5_probs.jsonl\")\n",
    "pred_map = {i[\"id\"]:idx for idx,i in enumerate(pred_data)}\n",
    "len(pred_data)"
   ]
  },
  {
   "cell_type": "code",
   "execution_count": 324,
   "id": "9aa39bad-ea54-4d04-bf75-49ebff95c1c7",
   "metadata": {},
   "outputs": [
    {
     "data": {
      "text/plain": [
       "909"
      ]
     },
     "execution_count": 324,
     "metadata": {},
     "output_type": "execute_result"
    }
   ],
   "source": [
    "len([i for i in pred_data if i[\"enough\"]<0.1])#not enough predict"
   ]
  },
  {
   "cell_type": "code",
   "execution_count": 104,
   "id": "6ed6e220-c7f6-4a9c-838f-99585a95c6d0",
   "metadata": {},
   "outputs": [],
   "source": [
    "def find_identical(data,test):\n",
    "    re_lst=[]\n",
    "    for i in test:\n",
    "        for j in data:\n",
    "            if i[\"claim\"].replace(\" \",\"\") == j[\"claim\"].replace(\" \",\"\"):\n",
    "                re_lst.append({\"id\":i[\"id\"],\"label\":j[\"label\"]})\n",
    "    return re_lst"
   ]
  },
  {
   "cell_type": "code",
   "execution_count": 146,
   "id": "9dd81a3f-2ac6-43ee-bdbd-05d8aa0b7c1f",
   "metadata": {
    "tags": []
   },
   "outputs": [
    {
     "data": {
      "text/plain": [
       "136"
      ]
     },
     "execution_count": 146,
     "metadata": {},
     "output_type": "execute_result"
    }
   ],
   "source": [
    "script = find_identical(train_data,test_data)\n",
    "len(script)"
   ]
  },
  {
   "cell_type": "code",
   "execution_count": 402,
   "id": "e72eb5e0-e810-40b6-99cd-c4d975d50490",
   "metadata": {
    "tags": []
   },
   "outputs": [
    {
     "name": "stdout",
     "output_type": "stream",
     "text": [
      "{'id': 2045, 'label': 'supports'}\n",
      "{'id': 300, 'label': 'refutes'}\n",
      "{'id': 208, 'label': 'NOT ENOUGH INFO'}\n",
      "{'id': 207, 'label': 'NOT ENOUGH INFO'}\n",
      "{'id': 6028, 'label': 'refutes'}\n",
      "{'id': 689, 'label': 'NOT ENOUGH INFO'}\n",
      "{'id': 4082, 'label': 'NOT ENOUGH INFO'}\n",
      "{'id': 223, 'label': 'NOT ENOUGH INFO'}\n",
      "{'id': 10544, 'label': 'supports'}\n"
     ]
    }
   ],
   "source": [
    "for i in script:\n",
    "    if i[\"id\"] in pred_map:\n",
    "        if pred_data[pred_map[i[\"id\"]]][\"predicted_label\"]!=i[\"label\"]:\n",
    "            print(i)\n",
    "            pred_data[pred_map[i[\"id\"]]][\"predicted_label\"]=i[\"label\"]"
   ]
  },
  {
   "cell_type": "code",
   "execution_count": 399,
   "id": "33a5474f-f8b1-466a-be39-e21a90df2533",
   "metadata": {
    "tags": []
   },
   "outputs": [],
   "source": [
    "for i in enough_dic:\n",
    "    if i in pred_map.keys():\n",
    "        if enough_dic[i]==\"NOT\":\n",
    "            pred_data[pred_map[i]]['cluster_enough']=0\n",
    "        else:\n",
    "            pred_data[pred_map[i]]['cluster_enough']=1\n",
    "    else:\n",
    "        0\n",
    "        #print(i,\"NOT IN Pred\")"
   ]
  },
  {
   "cell_type": "code",
   "execution_count": 236,
   "id": "bfff1877-86d7-4a1b-bbe2-fefc36e166c1",
   "metadata": {},
   "outputs": [
    {
     "data": {
      "text/plain": [
       "{'id': 21498,\n",
       " 'claim': '雞形目的鳥腿腳強健，擅長在地面奔跑，其中有珍稀物種，體態雄健優美、顏色鮮豔；也有經濟物種，與人類關係密切。',\n",
       " 'predicted_pages_1': ['雞形目'],\n",
       " 'predicted_evidence': [['雞形目', 2], ['雞形目', 3], ['雞形目', 0], ['雞形目', 1]],\n",
       " 'enough': 0.9632043480873108,\n",
       " 'predict_label': 0.009029662888497113,\n",
       " 'cluster_enough': 1}"
      ]
     },
     "execution_count": 236,
     "metadata": {},
     "output_type": "execute_result"
    }
   ],
   "source": [
    "pred_data[0]"
   ]
  },
  {
   "cell_type": "code",
   "execution_count": 400,
   "id": "ab123ab5-4e47-433e-8e93-a151bd8edc2e",
   "metadata": {},
   "outputs": [
    {
     "name": "stdout",
     "output_type": "stream",
     "text": [
      "443\n"
     ]
    }
   ],
   "source": [
    "count=0\n",
    "for i in pred_data:#if enough not sure use cluster\n",
    "    if abs(i[\"enough\"]-0.5)<0.1:\n",
    "        count+=1\n",
    "        i[\"enough\"]=i['cluster_enough']\n",
    "    else:\n",
    "        i[\"enough\"]=1 if i[\"enough\"]>0.5 else 0\n",
    "print(count)"
   ]
  },
  {
   "cell_type": "code",
   "execution_count": 401,
   "id": "668a162e-e7ab-4769-8a12-c7d1b6083d1b",
   "metadata": {},
   "outputs": [
    {
     "name": "stdout",
     "output_type": "stream",
     "text": [
      "total:  8597\n",
      "ratio:  4042 2531 2024\n"
     ]
    }
   ],
   "source": [
    "c_lst=[]\n",
    "for i in pred_data:#mapping to labels\n",
    "    if i[\"enough\"]:\n",
    "        if i['predict_label']>0.5:\n",
    "            i[\"predicted_label\"]=\"refutes\"\n",
    "        else:\n",
    "            i[\"predicted_label\"]=\"supports\"\n",
    "    else:\n",
    "        i[\"predicted_label\"]=\"NOT ENOUGH INFO\"\n",
    "    c_lst.append(i[\"predicted_label\"])\n",
    "print(\"total: \",len(c_lst))\n",
    "print(\"ratio: \",c_lst.count(\"supports\"),c_lst.count(\"refutes\"),c_lst.count(\"NOT ENOUGH INFO\"))\n"
   ]
  },
  {
   "cell_type": "markdown",
   "id": "26fe106a-cb83-41ed-a93c-3224ce7755f0",
   "metadata": {},
   "source": [
    "all ratio:  3298 2323 2976 c8597\n",
    "01 ratio:  4042 2531 2024 c443\n",
    "02 ratio:  4063 2593 1941 c851\n",
    "03 ratio:  3982 2533 2082 c1536\n",
    "04 ratio:  4009 2599 1989 c2334\n",
    "045 ratio:  3956 2558 2083 c2758\n",
    "\n",
    "kfold 0.5 1904\n",
    "kfold 0.4 1904"
   ]
  },
  {
   "cell_type": "markdown",
   "id": "b931a3a8-d345-40ac-b814-101d0582934c",
   "metadata": {},
   "source": [
    "add not found data"
   ]
  },
  {
   "cell_type": "code",
   "execution_count": 240,
   "id": "7214261b-28fb-477d-b91b-c38bf3c0b67e",
   "metadata": {},
   "outputs": [
    {
     "data": {
      "text/plain": [
       "9038"
      ]
     },
     "execution_count": 240,
     "metadata": {},
     "output_type": "execute_result"
    }
   ],
   "source": [
    "ori_data = load_json(\"../preprocess/all_test.jsonl\")\n",
    "len(ori_data)"
   ]
  },
  {
   "cell_type": "code",
   "execution_count": 403,
   "id": "0f7640e8-5779-4611-b581-85d29a75e6b9",
   "metadata": {},
   "outputs": [],
   "source": [
    "mapping_idx = {d[\"id\"]:idx for idx,d in enumerate(pred_data)}\n",
    "re_lst = []\n",
    "for d in ori_data:\n",
    "    if d[\"id\"] in mapping_idx.keys():\n",
    "        data = pred_data[mapping_idx[d[\"id\"]]]\n",
    "        re_lst.append({\"id\":data[\"id\"],\"predicted_label\":data[\"predicted_label\"],\"predicted_evidence\":data[\"predicted_evidence\"]})\n",
    "    else:\n",
    "        re_lst.append({\"id\":d[\"id\"],\"predicted_label\":\"NOT ENOUGH INFO\",\"predicted_evidence\":[]})"
   ]
  },
  {
   "cell_type": "code",
   "execution_count": 404,
   "id": "d4bf817e-3dba-4d21-90ba-516066bfccd8",
   "metadata": {},
   "outputs": [
    {
     "data": {
      "text/plain": [
       "9038"
      ]
     },
     "execution_count": 404,
     "metadata": {},
     "output_type": "execute_result"
    }
   ],
   "source": [
    "len(re_lst)"
   ]
  },
  {
   "cell_type": "code",
   "execution_count": 406,
   "id": "3469e4f6-2d74-483a-8ab6-d0bd8d7aae45",
   "metadata": {},
   "outputs": [],
   "source": [
    "with open(\"../submissions/all_test_clu_page_sent_claim_cluE01_ens5.jsonl\",\"w\",encoding=\"utf8\",) as f:\n",
    "    for i, d in enumerate(re_lst):\n",
    "        f.write(json.dumps(d, ensure_ascii=False) + \"\\n\")"
   ]
  },
  {
   "cell_type": "code",
   "execution_count": 405,
   "id": "1bb07843-68f5-43e7-95e4-7880b8b26d5b",
   "metadata": {
    "tags": []
   },
   "outputs": [
    {
     "name": "stdout",
     "output_type": "stream",
     "text": [
      "[]\n"
     ]
    },
    {
     "data": {
      "text/plain": [
       "2468"
      ]
     },
     "execution_count": 405,
     "metadata": {},
     "output_type": "execute_result"
    }
   ],
   "source": [
    "print([ i for i in re_lst if len(i.keys())>3])\n",
    "len([ i for i in re_lst if i[\"predicted_label\"]==\"NOT ENOUGH INFO\"])"
   ]
  },
  {
   "cell_type": "code",
   "execution_count": 155,
   "id": "d4a57ed8-6b61-4fa6-b431-4e53263d7cad",
   "metadata": {},
   "outputs": [],
   "source": [
    "for i in pred_map:\n",
    "    if i not in test_map.keys():\n",
    "        print(i)"
   ]
  },
  {
   "cell_type": "code",
   "execution_count": null,
   "id": "17dc8d55-09e1-4f26-9232-8139b8972e82",
   "metadata": {},
   "outputs": [],
   "source": []
  }
 ],
 "metadata": {
  "kernelspec": {
   "display_name": "IR_NLP",
   "language": "python",
   "name": "ir_nlp"
  },
  "language_info": {
   "codemirror_mode": {
    "name": "ipython",
    "version": 3
   },
   "file_extension": ".py",
   "mimetype": "text/x-python",
   "name": "python",
   "nbconvert_exporter": "python",
   "pygments_lexer": "ipython3",
   "version": "3.8.10"
  }
 },
 "nbformat": 4,
 "nbformat_minor": 5
}
